{
 "cells": [
  {
   "cell_type": "code",
   "execution_count": 1,
   "id": "615ca07b-33e0-4b47-89e7-91a627c66ef5",
   "metadata": {},
   "outputs": [],
   "source": [
    "#question 1\n",
    "#for loop\n",
    "for loops are used when you have a block of code which you want to repeat a \n",
    "fixed number of times. The for-loop is always used in combination with an iterable object, \n",
    "like a list or a range. The Python for statement iterates over the members of a sequence in \n",
    "order, executing the block each time\n",
    "\n",
    "#example\n",
    "list_of_lists = [ [1, 2, 3], [4, 5, 6], [7, 8, 9]]\n",
    "for list in list_of_lists:\n",
    "    for x in list:\n",
    "        print(x)\n",
    "\n",
    "#while loop\n",
    "\n",
    "A While loop in Python allows a part of the code to be executed repeatedly as \n",
    "long as a given condition is true. \n",
    "The While loop in Python is also called a pre-tested loop.\n",
    "It is typically used when the number of iterations is not known.\n",
    "\n",
    "A Python While loop expression/condition consists of three parts:\n",
    "\n",
    "1.A piece of code that needs to be repeated over and over\n",
    "2.The while keyword\n",
    "3.A condition that translates to either True or False\n",
    "\n",
    "#EXAMPLE:\n",
    "# program to calculate the sum of numbers\n",
    "# until the user enters zero\n",
    "\n",
    "Sum = 0\n",
    "\n",
    "number = int(input('Enter a number: '))\n",
    "\n",
    "while number != 0:\n",
    "    number = int(input('Enter a number: '))\n",
    "    Sum = Sum + number  \n",
    "    \n",
    "    \n",
    "print('Sum is =', Sum)\n"
   ]
  },
  {
   "cell_type": "code",
   "execution_count": null,
   "id": "f0de8f8b-6e65-432a-a118-03ddc0eabc31",
   "metadata": {},
   "outputs": [],
   "source": [
    "#question 2\n",
    "#for loop\n",
    "sum=0\n",
    "product=1\n",
    "for i in range(1,11):\n",
    "    sum=sum+i\n",
    "    product=product*i\n",
    "print(\"sum is : \", sum)\n",
    "print(\"product is:  \" , product)\n",
    "\n",
    "\n",
    "#while loop\n",
    "sum=0\n",
    "product=1\n",
    "i=1\n",
    "while(i<=10):\n",
    "    sum=sum+i\n",
    "    product=product*i\n",
    "    i=i+1\n",
    "print(\"sum is : \", sum)\n",
    "print(\"product is:  \" , product)"
   ]
  },
  {
   "cell_type": "code",
   "execution_count": null,
   "id": "0f5f09f6-a1e5-4a16-9691-0a1946d33b72",
   "metadata": {},
   "outputs": [],
   "source": [
    "#question 3\n",
    "unit=int(input(\"Enter the unit to be consumed : \"))\n",
    "if unit<=100:\n",
    "    pay_bill=100*4.5\n",
    "elif unit<=200:\n",
    "    pay_bill=100*4.5 + (unit-100)*6\n",
    "elif unit<=300:\n",
    "    pay_bill=100*4.5+100*6+(unit-200)*10\n",
    "else:\n",
    "    pay_bill=100*4.5+100*6+100*10+(unit-300)*20\n",
    "print(\"bill pay by the consumer on \" ,unit , \"unit is :\" , pay_bill)"
   ]
  },
  {
   "cell_type": "code",
   "execution_count": null,
   "id": "a3117ad4-b3d6-47ae-80e4-12c2f8cc4eb5",
   "metadata": {},
   "outputs": [],
   "source": [
    "#question 4\n",
    "for_cube_l1=[]\n",
    "for_divide_l2=[]\n",
    "for i in range(1,101):\n",
    "    for_cube_l1.append(i)\n",
    "    cube=i*i*i\n",
    "    print(cube)\n",
    "    if(cube%4==0 or cube%5==0):\n",
    "        for_divide_l2.append(cube)\n",
    "print(\"for_cube_l1 is : \",for_cube_l1)\n",
    "print()\n",
    "print()\n",
    "print(\"for_divide_l2 is :\",for_divide_l2)"
   ]
  },
  {
   "cell_type": "code",
   "execution_count": null,
   "id": "91cd0183-1938-43cf-bda2-79c83cc3b766",
   "metadata": {},
   "outputs": [],
   "source": [
    "#question 5\n",
    "string = \"I want to become a data scientist\"\n",
    "vowels = [ 'a', 'e', 'i','o', 'u','A','E','I','O','U']\n",
    "count = 0\n",
    "\n",
    "for i in string:\n",
    "    if i in vowels:\n",
    "        count =count + 1 \n",
    "print(\"The number of vowels in the string is:\", count)"
   ]
  }
 ],
 "metadata": {
  "kernelspec": {
   "display_name": "Python 3 (ipykernel)",
   "language": "python",
   "name": "python3"
  },
  "language_info": {
   "codemirror_mode": {
    "name": "ipython",
    "version": 3
   },
   "file_extension": ".py",
   "mimetype": "text/x-python",
   "name": "python",
   "nbconvert_exporter": "python",
   "pygments_lexer": "ipython3",
   "version": "3.10.8"
  }
 },
 "nbformat": 4,
 "nbformat_minor": 5
}
